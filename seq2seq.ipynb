{
 "cells": [
  {
   "cell_type": "code",
   "execution_count": 26,
   "metadata": {
    "scrolled": false
   },
   "outputs": [
    {
     "name": "stderr",
     "output_type": "stream",
     "text": [
      "Using TensorFlow backend.\n"
     ]
    }
   ],
   "source": [
    "from tensorflow.keras import *\n",
    "from tensorflow.keras.layers import * \n",
    "import tensorflow as tf\n",
    "import numpy as np\n",
    "from tensorflow.python.framework.ops import disable_eager_execution\n",
    "from keras.callbacks import TensorBoard\n",
    "from datetime import datetime\n",
    "from keras.callbacks import EarlyStopping\n",
    "\n",
    "# disable_eager_execution()\n"
   ]
  },
  {
   "cell_type": "code",
   "execution_count": 3,
   "metadata": {},
   "outputs": [
    {
     "data": {
      "text/plain": [
       "True"
      ]
     },
     "execution_count": 3,
     "metadata": {},
     "output_type": "execute_result"
    }
   ],
   "source": [
    "tf.executing_eagerly()"
   ]
  },
  {
   "cell_type": "code",
   "execution_count": 4,
   "metadata": {},
   "outputs": [],
   "source": [
    "def create_encoder(encoder_input, num_layers=2, hidden_size=128):\n",
    "    \n",
    "    for i in range(num_layers):\n",
    "        if i == 0:\n",
    "            output, hidden = GRU(units=hidden_size, dropout=0.3, \n",
    "                                 return_sequences=True, return_state=True, kernel_initializer='he_normal')(encoder_input)\n",
    "        else:\n",
    "            output, hidden = GRU(units=hidden_size, dropout=0.3, \n",
    "                                 return_sequences=True, \n",
    "                                 return_state=True,kernel_initializer='he_normal')(output, initial_state=hidden)\n",
    "    \n",
    "    return output, hidden"
   ]
  },
  {
   "cell_type": "code",
   "execution_count": 5,
   "metadata": {},
   "outputs": [],
   "source": [
    "cat_dict = {\n",
    "        'event_name_1': {'input_dim': 31, 'output_dim': 1},\n",
    "        'event_type_1': {'input_dim': 5, 'output_dim': 1},\n",
    "        'event_name_2': {'input_dim': 5, 'output_dim': 1},\n",
    "        'event_type_2': {'input_dim': 5, 'output_dim': 1},\n",
    "\n",
    "        'item_id': {'input_dim': 3049, 'output_dim': 3},\n",
    "        'dept_id': {'input_dim': 7, 'output_dim': 1},\n",
    "        'store_id': {'input_dim': 10, 'output_dim': 1},\n",
    "        'cat_id': {'input_dim': 3, 'output_dim': 1},\n",
    "        'state_id': {'input_dim': 3, 'output_dim': 1},  \n",
    "#         'wday': {'input_dim': 7, 'output_dim': 1}, \n",
    "#         'month': {'input_dim': 12, 'output_dim': 1}, \n",
    "#         'year': {'input_dim': 6, 'output_dim': 1}, \n",
    "#         'day': {'input_dim': 31, 'output_dim': 1}, \n",
    "           }\n",
    "cat_cols = list(cat_dict.keys())\n"
   ]
  },
  {
   "cell_type": "code",
   "execution_count": 19,
   "metadata": {},
   "outputs": [
    {
     "name": "stdout",
     "output_type": "stream",
     "text": [
      "None\n"
     ]
    }
   ],
   "source": [
    "class build_model(object):\n",
    "    def __init__(self, seq_len, dec_seq_len, num_cont_features, categorical_details={},  dec_num_layers=2, hidden_size=128, teacher_forcing=False, batch_size=10):\n",
    "        self.seq_len = seq_len\n",
    "        self.dec_seq_len = dec_seq_len\n",
    "        self.num_features = num_cont_features\n",
    "        self.dec_hidden_size = hidden_size\n",
    "        self.categorical_details = categorical_details\n",
    "        self.hidden_size = hidden_size\n",
    "        self.teacher_forcing = teacher_forcing\n",
    "        self.batch_size = batch_size \n",
    "        self.num_layers = dec_num_layers\n",
    "\n",
    "    def create_cat_inputs_embeddings(self):\n",
    "        catInputs = []\n",
    "        embeddings_cat = []\n",
    "        for feature_name, embedding_params in self.categorical_details.items():\n",
    "            feature_input = Input(shape=(self.seq_len,), name=feature_name)\n",
    "            catInputs.append(feature_input)\n",
    "            embedding = Embedding(**embedding_params)(feature_input)\n",
    "            embeddings_cat.append(embedding)\n",
    "\n",
    "        return catInputs, embeddings_cat\n",
    "\n",
    "    def build_encoder_model(self):\n",
    "        # get inputs \n",
    "        self.encoder_input_cont = Input(shape=(self.seq_len, self.num_features), name='continous_features') \n",
    "        # create embeddings for categoricals and concat features with continous features\n",
    "        if self.categorical_details:\n",
    "            self.catInputs, embeddings_cat = self.create_cat_inputs_embeddings()\n",
    "            # input to encoder -> concatenate continous and categorial features\n",
    "            encoder_input = concatenate([self.encoder_input_cont] + embeddings_cat)\n",
    "        else:\n",
    "            self.catInputs = []\n",
    "            encoder_input = self.encoder_input_cont  \n",
    "        # saving encoder state to self for inference \n",
    "        self.enc_output, self.enc_state = create_encoder(num_layers=2, hidden_size=128, \n",
    "                                                   encoder_input=encoder_input)\n",
    "        \n",
    "    def create_decoder_cells(self, decoder_input, decoder_hidden):\n",
    "        \"\"\"\n",
    "        Creates a RNN layer vertically at timestep N. \n",
    "        Inputs: \n",
    "            decoder_input is input at one timestep - shape (batch_size, 1)\n",
    "            decoder_hidden: - initial hidden state at layer 0 - shape- (batch_size, hidden_size)\n",
    "        output:\n",
    "            (batch_size, hidden_size)\n",
    "        \"\"\"            \n",
    "        if self.dec_hidden_size != decoder_hidden.shape[-1] or len(decoder_hidden.shape)>2:\n",
    "            raise ValueError('Hidden size is {} but decoder input has shape {}'.format(dec_hidden_size, decoder_hidden.shape))\n",
    "#         print('decoder input shape {} and decoder hidden shape {} '.format(decoder_input.shape, decoder_hidden.shape))\n",
    "        for i in range(self.num_layers):\n",
    "            out, decoder_hidden = GRUCell(units=self.dec_hidden_size, \n",
    "                                          kernel_initializer='he_normal')(decoder_input, decoder_hidden)\n",
    "            decoder_input = out\n",
    "\n",
    "        return out, decoder_hidden\n",
    "\n",
    "    def create_decoder(self, decoder_input, decoder_hidden): \n",
    "        \"\"\"\n",
    "        Creates decoder\n",
    "        Input: Initial decoder hidden state. Will be passing encoder output hidden state \n",
    "        decoder input: (batch_size, dec_seq_len)\n",
    "        \"\"\"\n",
    "        outputs = []\n",
    "#         self.batch_size=self.encoder_input_cont.shape[0]\n",
    "        if not self.teacher_forcing:\n",
    "#             decoder_input = tf.zeros((self.batch_size, 1))\n",
    "            for i in range (self.dec_seq_len):\n",
    "                o, h = self.create_decoder_cells(decoder_input, decoder_hidden)\n",
    "                # FC layers \n",
    "                o = Dense(1)(o)\n",
    "                outputs.append(o)\n",
    "                # output of at timestep N is input at N+1\n",
    "                decoder_input = o \n",
    "                # layers.GRUCell returns hidden state of type List\n",
    "                decoder_hidden=h[0]\n",
    "        else:\n",
    "            for i in range(self.dec_seq_len):\n",
    "                # feeding in target (decoder input) at time T into decoder at time T+1.\n",
    "                # first element of sequence of decoder_input padded with zeros prior\n",
    "                decoder_input_t = tf.expand_dims(decoder_input[:, i], axis=1)\n",
    "#                 decoder_input_t=f.stop_gradient(decoder_input_t)\n",
    "                o, h = self.create_decoder_cells(decoder_input_t, decoder_hidden)\n",
    "                # layers.GRUCell returns hidden state of type List\n",
    "                o = Dense(1)(o)\n",
    "                outputs.append(o)\n",
    "                decoder_hidden=h[0]\n",
    "#         print('dec final outputs shape ', outputs.shape)\n",
    "        return tf.concat(outputs, axis=1) \n",
    "\n",
    "\n",
    "    def build_decoder_model(self):\n",
    "        # creating decoder \n",
    "\n",
    "        if self.teacher_forcing:\n",
    "            self.decoder_input = Input(shape=(self.dec_seq_len))\n",
    "            self.preds = self.create_decoder(self.decoder_input, self.enc_state)\n",
    "            return Model(inputs=[self.encoder_input_cont] + self.catInputs + [self.decoder_input] , \n",
    "                         outputs=self.preds)\n",
    "        else:\n",
    "            # shape 1 because vector used only for the first timestep of decoder \n",
    "            self.decoder_input = Input(shape=(1))\n",
    "            self.preds = self.create_decoder(self.decoder_input, self.enc_state)\n",
    "            return Model(inputs=[self.encoder_input_cont] + self.catInputs + [self.decoder_input], \n",
    "                         outputs=self.preds)\n",
    "\n",
    "\n",
    "nb_samples, seq_len, num_features = 100, 56, 20\n",
    "\n",
    "# x = tf.ones((nb_samples, seq_len, num_features))\n",
    "dec_seq_len = seq_len//2\n",
    "\n",
    "# y = tf.ones((nb_samples, dec_seq_len))\n",
    "# dec_hidden_size = 128\n",
    "# decoder_hidden = tf.ones((batch_size, dec_hidden_size))\n",
    "batch_size=100\n",
    "model_ = build_model(seq_len, dec_seq_len, num_features, teacher_forcing=False, batch_size=batch_size)   \n",
    "print(model_.build_encoder_model())\n",
    "# model_.create_decoder(decoder_input=y, decoder_hidden=decoder_hidden)\n",
    "# model = model_.decoder_model()\n",
    "# model.summary()\n",
    "# dec_input = tf.ones((batch_size, 1))\n",
    "# model_.create_decoder(y, decoder_hidden).shape"
   ]
  },
  {
   "cell_type": "code",
   "execution_count": 8,
   "metadata": {},
   "outputs": [],
   "source": [
    "model = model_.build_decoder_model()"
   ]
  },
  {
   "cell_type": "code",
   "execution_count": 9,
   "metadata": {},
   "outputs": [
    {
     "name": "stdout",
     "output_type": "stream",
     "text": [
      "Model: \"model\"\n",
      "__________________________________________________________________________________________________\n",
      "Layer (type)                    Output Shape         Param #     Connected to                     \n",
      "==================================================================================================\n",
      "continous_features (InputLayer) [(None, 56, 20)]     0                                            \n",
      "__________________________________________________________________________________________________\n",
      "gru (GRU)                       [(None, 56, 128), (N 57600       continous_features[0][0]         \n",
      "__________________________________________________________________________________________________\n",
      "input_1 (InputLayer)            [(None, 1)]          0                                            \n",
      "__________________________________________________________________________________________________\n",
      "gru_1 (GRU)                     [(None, 56, 128), (N 99072       gru[0][0]                        \n",
      "                                                                 gru[0][1]                        \n",
      "__________________________________________________________________________________________________\n",
      "gru_cell_2 (GRUCell)            ((None, 128), [(None 50304       input_1[0][0]                    \n",
      "__________________________________________________________________________________________________\n",
      "gru_cell_3 (GRUCell)            ((None, 128), [(None 99072       gru_cell_2[0][0]                 \n",
      "__________________________________________________________________________________________________\n",
      "dense (Dense)                   (None, 1)            129         gru_cell_3[0][0]                 \n",
      "__________________________________________________________________________________________________\n",
      "gru_cell_4 (GRUCell)            ((None, 128), [(None 50304       dense[0][0]                      \n",
      "__________________________________________________________________________________________________\n",
      "gru_cell_5 (GRUCell)            ((None, 128), [(None 99072       gru_cell_4[0][0]                 \n",
      "__________________________________________________________________________________________________\n",
      "dense_1 (Dense)                 (None, 1)            129         gru_cell_5[0][0]                 \n",
      "__________________________________________________________________________________________________\n",
      "gru_cell_6 (GRUCell)            ((None, 128), [(None 50304       dense_1[0][0]                    \n",
      "__________________________________________________________________________________________________\n",
      "gru_cell_7 (GRUCell)            ((None, 128), [(None 99072       gru_cell_6[0][0]                 \n",
      "__________________________________________________________________________________________________\n",
      "dense_2 (Dense)                 (None, 1)            129         gru_cell_7[0][0]                 \n",
      "__________________________________________________________________________________________________\n",
      "gru_cell_8 (GRUCell)            ((None, 128), [(None 50304       dense_2[0][0]                    \n",
      "__________________________________________________________________________________________________\n",
      "gru_cell_9 (GRUCell)            ((None, 128), [(None 99072       gru_cell_8[0][0]                 \n",
      "__________________________________________________________________________________________________\n",
      "dense_3 (Dense)                 (None, 1)            129         gru_cell_9[0][0]                 \n",
      "__________________________________________________________________________________________________\n",
      "gru_cell_10 (GRUCell)           ((None, 128), [(None 50304       dense_3[0][0]                    \n",
      "__________________________________________________________________________________________________\n",
      "gru_cell_11 (GRUCell)           ((None, 128), [(None 99072       gru_cell_10[0][0]                \n",
      "__________________________________________________________________________________________________\n",
      "dense_4 (Dense)                 (None, 1)            129         gru_cell_11[0][0]                \n",
      "__________________________________________________________________________________________________\n",
      "gru_cell_12 (GRUCell)           ((None, 128), [(None 50304       dense_4[0][0]                    \n",
      "__________________________________________________________________________________________________\n",
      "gru_cell_13 (GRUCell)           ((None, 128), [(None 99072       gru_cell_12[0][0]                \n",
      "__________________________________________________________________________________________________\n",
      "dense_5 (Dense)                 (None, 1)            129         gru_cell_13[0][0]                \n",
      "__________________________________________________________________________________________________\n",
      "gru_cell_14 (GRUCell)           ((None, 128), [(None 50304       dense_5[0][0]                    \n",
      "__________________________________________________________________________________________________\n",
      "gru_cell_15 (GRUCell)           ((None, 128), [(None 99072       gru_cell_14[0][0]                \n",
      "__________________________________________________________________________________________________\n",
      "dense_6 (Dense)                 (None, 1)            129         gru_cell_15[0][0]                \n",
      "__________________________________________________________________________________________________\n",
      "gru_cell_16 (GRUCell)           ((None, 128), [(None 50304       dense_6[0][0]                    \n",
      "__________________________________________________________________________________________________\n",
      "gru_cell_17 (GRUCell)           ((None, 128), [(None 99072       gru_cell_16[0][0]                \n",
      "__________________________________________________________________________________________________\n",
      "dense_7 (Dense)                 (None, 1)            129         gru_cell_17[0][0]                \n",
      "__________________________________________________________________________________________________\n",
      "gru_cell_18 (GRUCell)           ((None, 128), [(None 50304       dense_7[0][0]                    \n",
      "__________________________________________________________________________________________________\n",
      "gru_cell_19 (GRUCell)           ((None, 128), [(None 99072       gru_cell_18[0][0]                \n",
      "__________________________________________________________________________________________________\n",
      "dense_8 (Dense)                 (None, 1)            129         gru_cell_19[0][0]                \n",
      "__________________________________________________________________________________________________\n",
      "gru_cell_20 (GRUCell)           ((None, 128), [(None 50304       dense_8[0][0]                    \n",
      "__________________________________________________________________________________________________\n",
      "gru_cell_21 (GRUCell)           ((None, 128), [(None 99072       gru_cell_20[0][0]                \n",
      "__________________________________________________________________________________________________\n",
      "dense_9 (Dense)                 (None, 1)            129         gru_cell_21[0][0]                \n",
      "__________________________________________________________________________________________________\n",
      "gru_cell_22 (GRUCell)           ((None, 128), [(None 50304       dense_9[0][0]                    \n",
      "__________________________________________________________________________________________________\n",
      "gru_cell_23 (GRUCell)           ((None, 128), [(None 99072       gru_cell_22[0][0]                \n",
      "__________________________________________________________________________________________________\n",
      "dense_10 (Dense)                (None, 1)            129         gru_cell_23[0][0]                \n",
      "__________________________________________________________________________________________________\n",
      "gru_cell_24 (GRUCell)           ((None, 128), [(None 50304       dense_10[0][0]                   \n",
      "__________________________________________________________________________________________________\n",
      "gru_cell_25 (GRUCell)           ((None, 128), [(None 99072       gru_cell_24[0][0]                \n",
      "__________________________________________________________________________________________________\n",
      "dense_11 (Dense)                (None, 1)            129         gru_cell_25[0][0]                \n",
      "__________________________________________________________________________________________________\n",
      "gru_cell_26 (GRUCell)           ((None, 128), [(None 50304       dense_11[0][0]                   \n",
      "__________________________________________________________________________________________________\n",
      "gru_cell_27 (GRUCell)           ((None, 128), [(None 99072       gru_cell_26[0][0]                \n",
      "__________________________________________________________________________________________________\n",
      "dense_12 (Dense)                (None, 1)            129         gru_cell_27[0][0]                \n",
      "__________________________________________________________________________________________________\n",
      "gru_cell_28 (GRUCell)           ((None, 128), [(None 50304       dense_12[0][0]                   \n",
      "__________________________________________________________________________________________________\n",
      "gru_cell_29 (GRUCell)           ((None, 128), [(None 99072       gru_cell_28[0][0]                \n",
      "__________________________________________________________________________________________________\n",
      "dense_13 (Dense)                (None, 1)            129         gru_cell_29[0][0]                \n",
      "__________________________________________________________________________________________________\n",
      "gru_cell_30 (GRUCell)           ((None, 128), [(None 50304       dense_13[0][0]                   \n",
      "__________________________________________________________________________________________________\n",
      "gru_cell_31 (GRUCell)           ((None, 128), [(None 99072       gru_cell_30[0][0]                \n",
      "__________________________________________________________________________________________________\n",
      "dense_14 (Dense)                (None, 1)            129         gru_cell_31[0][0]                \n",
      "__________________________________________________________________________________________________\n",
      "gru_cell_32 (GRUCell)           ((None, 128), [(None 50304       dense_14[0][0]                   \n",
      "__________________________________________________________________________________________________\n",
      "gru_cell_33 (GRUCell)           ((None, 128), [(None 99072       gru_cell_32[0][0]                \n",
      "__________________________________________________________________________________________________\n",
      "dense_15 (Dense)                (None, 1)            129         gru_cell_33[0][0]                \n",
      "__________________________________________________________________________________________________\n",
      "gru_cell_34 (GRUCell)           ((None, 128), [(None 50304       dense_15[0][0]                   \n",
      "__________________________________________________________________________________________________\n",
      "gru_cell_35 (GRUCell)           ((None, 128), [(None 99072       gru_cell_34[0][0]                \n",
      "__________________________________________________________________________________________________\n",
      "dense_16 (Dense)                (None, 1)            129         gru_cell_35[0][0]                \n",
      "__________________________________________________________________________________________________\n",
      "gru_cell_36 (GRUCell)           ((None, 128), [(None 50304       dense_16[0][0]                   \n",
      "__________________________________________________________________________________________________\n",
      "gru_cell_37 (GRUCell)           ((None, 128), [(None 99072       gru_cell_36[0][0]                \n",
      "__________________________________________________________________________________________________\n",
      "dense_17 (Dense)                (None, 1)            129         gru_cell_37[0][0]                \n",
      "__________________________________________________________________________________________________\n",
      "gru_cell_38 (GRUCell)           ((None, 128), [(None 50304       dense_17[0][0]                   \n",
      "__________________________________________________________________________________________________\n",
      "gru_cell_39 (GRUCell)           ((None, 128), [(None 99072       gru_cell_38[0][0]                \n",
      "__________________________________________________________________________________________________\n",
      "dense_18 (Dense)                (None, 1)            129         gru_cell_39[0][0]                \n",
      "__________________________________________________________________________________________________\n",
      "gru_cell_40 (GRUCell)           ((None, 128), [(None 50304       dense_18[0][0]                   \n",
      "__________________________________________________________________________________________________\n",
      "gru_cell_41 (GRUCell)           ((None, 128), [(None 99072       gru_cell_40[0][0]                \n",
      "__________________________________________________________________________________________________\n",
      "dense_19 (Dense)                (None, 1)            129         gru_cell_41[0][0]                \n",
      "__________________________________________________________________________________________________\n",
      "gru_cell_42 (GRUCell)           ((None, 128), [(None 50304       dense_19[0][0]                   \n",
      "__________________________________________________________________________________________________\n",
      "gru_cell_43 (GRUCell)           ((None, 128), [(None 99072       gru_cell_42[0][0]                \n",
      "__________________________________________________________________________________________________\n",
      "dense_20 (Dense)                (None, 1)            129         gru_cell_43[0][0]                \n",
      "__________________________________________________________________________________________________\n",
      "gru_cell_44 (GRUCell)           ((None, 128), [(None 50304       dense_20[0][0]                   \n",
      "__________________________________________________________________________________________________\n",
      "gru_cell_45 (GRUCell)           ((None, 128), [(None 99072       gru_cell_44[0][0]                \n",
      "__________________________________________________________________________________________________\n",
      "dense_21 (Dense)                (None, 1)            129         gru_cell_45[0][0]                \n",
      "__________________________________________________________________________________________________\n",
      "gru_cell_46 (GRUCell)           ((None, 128), [(None 50304       dense_21[0][0]                   \n",
      "__________________________________________________________________________________________________\n",
      "gru_cell_47 (GRUCell)           ((None, 128), [(None 99072       gru_cell_46[0][0]                \n",
      "__________________________________________________________________________________________________\n",
      "dense_22 (Dense)                (None, 1)            129         gru_cell_47[0][0]                \n",
      "__________________________________________________________________________________________________\n",
      "gru_cell_48 (GRUCell)           ((None, 128), [(None 50304       dense_22[0][0]                   \n",
      "__________________________________________________________________________________________________\n",
      "gru_cell_49 (GRUCell)           ((None, 128), [(None 99072       gru_cell_48[0][0]                \n",
      "__________________________________________________________________________________________________\n",
      "dense_23 (Dense)                (None, 1)            129         gru_cell_49[0][0]                \n",
      "__________________________________________________________________________________________________\n",
      "gru_cell_50 (GRUCell)           ((None, 128), [(None 50304       dense_23[0][0]                   \n",
      "__________________________________________________________________________________________________\n",
      "gru_cell_51 (GRUCell)           ((None, 128), [(None 99072       gru_cell_50[0][0]                \n",
      "__________________________________________________________________________________________________\n",
      "dense_24 (Dense)                (None, 1)            129         gru_cell_51[0][0]                \n",
      "__________________________________________________________________________________________________\n",
      "gru_cell_52 (GRUCell)           ((None, 128), [(None 50304       dense_24[0][0]                   \n",
      "__________________________________________________________________________________________________\n",
      "gru_cell_53 (GRUCell)           ((None, 128), [(None 99072       gru_cell_52[0][0]                \n",
      "__________________________________________________________________________________________________\n",
      "dense_25 (Dense)                (None, 1)            129         gru_cell_53[0][0]                \n",
      "__________________________________________________________________________________________________\n",
      "gru_cell_54 (GRUCell)           ((None, 128), [(None 50304       dense_25[0][0]                   \n",
      "__________________________________________________________________________________________________\n",
      "gru_cell_55 (GRUCell)           ((None, 128), [(None 99072       gru_cell_54[0][0]                \n",
      "__________________________________________________________________________________________________\n",
      "dense_26 (Dense)                (None, 1)            129         gru_cell_55[0][0]                \n",
      "__________________________________________________________________________________________________\n",
      "gru_cell_56 (GRUCell)           ((None, 128), [(None 50304       dense_26[0][0]                   \n",
      "__________________________________________________________________________________________________\n",
      "gru_cell_57 (GRUCell)           ((None, 128), [(None 99072       gru_cell_56[0][0]                \n",
      "__________________________________________________________________________________________________\n",
      "dense_27 (Dense)                (None, 1)            129         gru_cell_57[0][0]                \n",
      "__________________________________________________________________________________________________\n",
      "tf_op_layer_concat (TensorFlowO [(None, 28)]         0           dense[0][0]                      \n",
      "                                                                 dense_1[0][0]                    \n",
      "                                                                 dense_2[0][0]                    \n",
      "                                                                 dense_3[0][0]                    \n",
      "                                                                 dense_4[0][0]                    \n",
      "                                                                 dense_5[0][0]                    \n",
      "                                                                 dense_6[0][0]                    \n",
      "                                                                 dense_7[0][0]                    \n",
      "                                                                 dense_8[0][0]                    \n",
      "                                                                 dense_9[0][0]                    \n",
      "                                                                 dense_10[0][0]                   \n",
      "                                                                 dense_11[0][0]                   \n",
      "                                                                 dense_12[0][0]                   \n",
      "                                                                 dense_13[0][0]                   \n",
      "                                                                 dense_14[0][0]                   \n",
      "                                                                 dense_15[0][0]                   \n",
      "                                                                 dense_16[0][0]                   \n",
      "                                                                 dense_17[0][0]                   \n",
      "                                                                 dense_18[0][0]                   \n",
      "                                                                 dense_19[0][0]                   \n",
      "                                                                 dense_20[0][0]                   \n",
      "                                                                 dense_21[0][0]                   \n",
      "                                                                 dense_22[0][0]                   \n",
      "                                                                 dense_23[0][0]                   \n",
      "                                                                 dense_24[0][0]                   \n",
      "                                                                 dense_25[0][0]                   \n",
      "                                                                 dense_26[0][0]                   \n",
      "                                                                 dense_27[0][0]                   \n",
      "==================================================================================================\n",
      "Total params: 4,342,812\n",
      "Trainable params: 4,342,812\n",
      "Non-trainable params: 0\n",
      "__________________________________________________________________________________________________\n"
     ]
    }
   ],
   "source": [
    "model.summary()"
   ]
  },
  {
   "cell_type": "code",
   "execution_count": 18,
   "metadata": {
    "scrolled": true
   },
   "outputs": [],
   "source": [
    "# from tensorflow.keras import layers\n",
    "# import tensorflow as tf\n",
    "\n",
    "# tf.executing_eagerly()\n",
    "# bs, dec_hidden_size = 10, 5\n",
    "# num_layers = 2\n",
    "# decoder_input=tf.ones((bs, 1))\n",
    "# decoder_hidden=tf.ones((bs, dec_hidden_size))\n",
    "# layers.GRUCell(units=dec_hidden_size, kernel_initializer='he_normal')(inputs=decoder_input, states = decoder_hidden)[0].shape\n",
    "# model.summary()"
   ]
  },
  {
   "cell_type": "code",
   "execution_count": 19,
   "metadata": {},
   "outputs": [],
   "source": [
    "model.compile(optimizer='adam', loss='mean_squared_error', \n",
    "              metrics=['mae'])\n",
    "# nb_samples, seq_len, num_features = 1000, 56, 20\n",
    "# x = tf.ones((nb_samples, seq_len, num_features))\n",
    "# dec_seq_len = seq_len//2\n",
    "# y = tf.ones((nb_samples, dec_seq_len))\n",
    "# model.fit(x, y, batch_size=100, epochs=2)\n"
   ]
  },
  {
   "cell_type": "code",
   "execution_count": 37,
   "metadata": {},
   "outputs": [
    {
     "name": "stdout",
     "output_type": "stream",
     "text": [
      "Features shape (540000, 56, 20), target shape (540000, 28)\n",
      "Wall time: 1min 5s\n"
     ]
    }
   ],
   "source": [
    "%%time\n",
    "# x = np.load('train/data_x.npy', allow_pickle=True).astype(np.float32)\n",
    "# y = np.load('train/data_y.npy', allow_pickle=True).astype(np.float32)\n",
    "x=np.load('features/x_FOODS_3_160_CA_1_validation.npy', allow_pickle=True).astype(np.float32)\n",
    "y=np.load('features/y_FOODS_3_160_CA_1_validation.npy', allow_pickle=True).astype(np.float32)\n",
    "# y=np.squeeze(y, axis=-1)\n",
    "\n",
    "print('Features shape {}, target shape {}'.format(x.shape, y.shape))\n",
    "\n",
    "# if len(feature_names) != x.shape[-1]:\n",
    "#     raise ValueError('Number of features in feature names not equal to saved file')"
   ]
  },
  {
   "cell_type": "code",
   "execution_count": 20,
   "metadata": {
    "scrolled": true
   },
   "outputs": [],
   "source": [
    "if not model_.teacher_forcing:\n",
    "    decoder_input = tf.zeros((x.shape[0]))\n",
    "    model.fit([x, decoder_input], y, batch_size=100, epochs=2, shuffle=True)\n",
    "else:\n",
    "    # padding \n",
    "    decoder_input = tf.concat([tf.zeros((x.shape[0], 1)), y[:, :-1]], axis=1)\n",
    "    \n"
   ]
  },
  {
   "cell_type": "code",
   "execution_count": 21,
   "metadata": {},
   "outputs": [],
   "source": [
    "with open('features/feature_names.txt', 'r') as f:\n",
    "    feature_names = f.read()\n",
    "feature_names=feature_names.split(',')"
   ]
  },
  {
   "cell_type": "code",
   "execution_count": 23,
   "metadata": {},
   "outputs": [],
   "source": [
    "def create_idx_map(features):\n",
    "    mapping = {}\n",
    "    for i, feat in enumerate(features):\n",
    "        mapping[feat] = i\n",
    "#     if len(mapping) != len(features):\n",
    "#         raise ValueError('Duplicates in features. Please fix')\n",
    "    return mapping\n",
    "\n",
    "class mappings(object):\n",
    "    \n",
    "    \"\"\"\n",
    "    Object to obtain mappings of features from numpy array\n",
    "    inputs: \n",
    "        features - list of features\n",
    "        cont_features - list. If none, everything other than Cat is used \n",
    "        cat_features = categorical features in order of the embeddings in neural net\n",
    "        target - target column\n",
    "\n",
    "    \"\"\"\n",
    "\n",
    "    def __init__(self, features, cont_features, cat_features, target='sales'):\n",
    "        self.features = features \n",
    "        # auto \n",
    "        if not cont_features:\n",
    "            cont_features = list(set(features) - set(cat_features))\n",
    "            \n",
    "        # move target to first element\n",
    "        if cont_features[0] != target:\n",
    "            cont_features.insert(0, cont_features.pop(cont_features.index(target)))\n",
    "        \n",
    "        self.cont_features = cont_features\n",
    "        self.cat_features = cat_features\n",
    "        \n",
    "    def create_idx_map(self, features):\n",
    "        mapping = {}\n",
    "        for i, feat in enumerate(features):\n",
    "            mapping[feat] = i\n",
    "        if len(mapping) != len(features):\n",
    "            raise ValueError('Duplicates in features. Please fix')\n",
    "        return mapping\n",
    "        \n",
    "    def get_mappings(self):\n",
    "        return self.create_idx_map(self.features)\n",
    "    \n",
    "    def get_cat_idx(self):\n",
    "        mappings = self.get_mappings()\n",
    "        return [mappings[i] for i in self.cat_features]\n",
    "    \n",
    "    def get_cont_idx(self):\n",
    "        mappings = self.get_mappings()\n",
    "        idxs = [mappings[i] for i in self.cont_features]\n",
    "        \n",
    "        return idxs\n",
    "    \n",
    "    \n",
    "maps = mappings(feature_names,None, cat_cols, target='sales')      \n",
    "num_features = len(maps.get_cont_idx())\n",
    "\n",
    "model_ = build_model(seq_len, dec_seq_len, num_features, categorical_details=cat_dict,\n",
    "                     teacher_forcing=False, batch_size=batch_size)\n",
    "\n",
    "model_.build_encoder_model()\n",
    "model = model_.build_decoder_model()"
   ]
  },
  {
   "cell_type": "code",
   "execution_count": 25,
   "metadata": {},
   "outputs": [
    {
     "data": {
      "text/plain": [
       "[<tf.Tensor 'continous_features_8:0' shape=(None, 56, 11) dtype=float32>,\n",
       " <tf.Tensor 'event_name_1_1:0' shape=(None, 56) dtype=float32>,\n",
       " <tf.Tensor 'event_type_1_1:0' shape=(None, 56) dtype=float32>,\n",
       " <tf.Tensor 'event_name_2_1:0' shape=(None, 56) dtype=float32>,\n",
       " <tf.Tensor 'event_type_2_1:0' shape=(None, 56) dtype=float32>,\n",
       " <tf.Tensor 'item_id_1:0' shape=(None, 56) dtype=float32>,\n",
       " <tf.Tensor 'dept_id_1:0' shape=(None, 56) dtype=float32>,\n",
       " <tf.Tensor 'store_id_1:0' shape=(None, 56) dtype=float32>,\n",
       " <tf.Tensor 'cat_id_1:0' shape=(None, 56) dtype=float32>,\n",
       " <tf.Tensor 'state_id_1:0' shape=(None, 56) dtype=float32>,\n",
       " <tf.Tensor 'input_2:0' shape=(None, 1) dtype=float32>]"
      ]
     },
     "execution_count": 25,
     "metadata": {},
     "output_type": "execute_result"
    }
   ],
   "source": [
    "model.inputs"
   ]
  },
  {
   "cell_type": "code",
   "execution_count": 24,
   "metadata": {},
   "outputs": [],
   "source": [
    "# size = x.shape\n",
    "# print('size of training data ', size)\n",
    "# nb_samples, seq_len, num_features = size[0], size[1], size[2]\n",
    "# dec_seq_len = y.shape[1]\n",
    "# # y=np.expand_dims(y, axis=-1)\n",
    "# # teacher forcing\n",
    "# padding = tf.zeros((nb_samples, 1, 1))\n",
    "# decoder_input = tf.concat([padding, y[:, :-1, :]], axis=1)"
   ]
  },
  {
   "cell_type": "code",
   "execution_count": 38,
   "metadata": {
    "scrolled": false
   },
   "outputs": [
    {
     "ename": "NameError",
     "evalue": "name 'maps' is not defined",
     "output_type": "error",
     "traceback": [
      "\u001b[0;31m---------------------------------------------------------------------------\u001b[0m",
      "\u001b[0;31mNameError\u001b[0m                                 Traceback (most recent call last)",
      "\u001b[0;32m<ipython-input-38-3e8f97554145>\u001b[0m in \u001b[0;36m<module>\u001b[0;34m\u001b[0m\n\u001b[1;32m      6\u001b[0m     \u001b[0;32mreturn\u001b[0m \u001b[0mtf\u001b[0m\u001b[0;34m.\u001b[0m\u001b[0msqrt\u001b[0m\u001b[0;34m(\u001b[0m\u001b[0mtf\u001b[0m\u001b[0;34m.\u001b[0m\u001b[0mreduce_mean\u001b[0m\u001b[0;34m(\u001b[0m\u001b[0;34m(\u001b[0m\u001b[0my_true\u001b[0m \u001b[0;34m-\u001b[0m \u001b[0my_pred\u001b[0m\u001b[0;34m)\u001b[0m\u001b[0;34m**\u001b[0m\u001b[0;36m2\u001b[0m\u001b[0;34m)\u001b[0m\u001b[0;34m)\u001b[0m\u001b[0;34m\u001b[0m\u001b[0m\n\u001b[1;32m      7\u001b[0m \u001b[0;34m\u001b[0m\u001b[0m\n\u001b[0;32m----> 8\u001b[0;31m \u001b[0mnum_features\u001b[0m \u001b[0;34m=\u001b[0m \u001b[0mlen\u001b[0m\u001b[0;34m(\u001b[0m\u001b[0mmaps\u001b[0m\u001b[0;34m.\u001b[0m\u001b[0mget_cont_idx\u001b[0m\u001b[0;34m(\u001b[0m\u001b[0;34m)\u001b[0m\u001b[0;34m)\u001b[0m\u001b[0;34m\u001b[0m\u001b[0m\n\u001b[0m\u001b[1;32m      9\u001b[0m model = seq2seq(seq_len, dec_seq_len, num_features, categorical_details=cat_dict, hidden_size=128, \n\u001b[1;32m     10\u001b[0m                 teacher_forcing=True)\n",
      "\u001b[0;31mNameError\u001b[0m: name 'maps' is not defined"
     ]
    }
   ],
   "source": [
    "\n",
    "def root_mean_squared_error(y_true, y_pred):\n",
    "    return tf.sqrt(tf.reduce_mean((y_true - y_pred)**2))\n",
    "\n",
    "model.compile(optimizer='adam', loss='mean_squared_error', \n",
    "              metrics=['mae', root_mean_squared_error])\n",
    "# logdir=\"\" + datetime.now().strftime(\"%Y%m%d-%H%M%S\")\n",
    "\n",
    "# tensorboard_callback = TensorBoard(log_dir=logdir)\n",
    "es_callback = EarlyStopping(patience=3)\n",
    "\n",
    "def create_input(x, decoder_input):\n",
    "    cont = maps.get_cont_idx()\n",
    "    cat = maps.get_cat_idx()\n",
    "    x_cat = [] \n",
    "    for idx in cat: \n",
    "        x_cat.append(x[:, :, idx])\n",
    "    x_cont = x[:, :, cont]\n",
    "    return [x_cont] + x_cat + [decoder_input]\n",
    "\n",
    "x_train = create_input(x, decoder_input)    \n",
    "print('training..')\n",
    "history = model.fit(x=x_train, y=y, batch_size=128, \n",
    "                    epochs=35, callbacks = [es_callback],\n",
    "                    shuffle=False, validation_split=0.15)"
   ]
  },
  {
   "cell_type": "code",
   "execution_count": 17,
   "metadata": {
    "scrolled": false
   },
   "outputs": [
    {
     "data": {
      "image/png": "[encoded data removed]",
      "text/plain": [
       "<Figure size 432x288 with 1 Axes>"
      ]
     },
     "metadata": {
      "needs_background": "light"
     },
     "output_type": "display_data"
    },
    {
     "data": {
      "image/png": "[encoded data removed]",
      "text/plain": [
       "<Figure size 432x288 with 1 Axes>"
      ]
     },
     "metadata": {
      "needs_background": "light"
     },
     "output_type": "display_data"
    }
   ],
   "source": [
    "import matplotlib.pyplot as plt\n",
    "metric = 'mae'\n",
    "# Plot training & validation accuracy values\n",
    "plt.plot(history.history[metric])\n",
    "plt.plot(history.history[f'val_{metric}'])\n",
    "plt.title('Model accuracy')\n",
    "plt.ylabel('Accuracy')\n",
    "plt.xlabel('Epoch')\n",
    "plt.legend(['Train', 'Test'], loc='upper left')\n",
    "plt.show()\n",
    "\n",
    "# Plot training & validation loss values\n",
    "plt.plot(history.history['loss'])\n",
    "plt.plot(history.history['val_loss'])\n",
    "plt.title('Model loss')\n",
    "plt.ylabel('Loss')\n",
    "plt.xlabel('Epoch')\n",
    "plt.legend(['Train', 'Test'], loc='upper left')\n",
    "plt.show()"
   ]
  },
  {
   "cell_type": "code",
   "execution_count": 36,
   "metadata": {},
   "outputs": [
    {
     "name": "stdout",
     "output_type": "stream",
     "text": [
      "output shape (None, 28, 1)\n",
      "output dec shape  (None, 28, 128)\n"
     ]
    }
   ],
   "source": [
    "model = seq2seq(seq_len, dec_seq_len, num_features, categorical_details=cat_dict, hidden_size=128, \n",
    "                teacher_forcing=True)"
   ]
  },
  {
   "cell_type": "code",
   "execution_count": 39,
   "metadata": {},
   "outputs": [],
   "source": [
    "from keras.models import load_model\n",
    "model.load_weights('train/weights1.h5', by_name=True)\n"
   ]
  },
  {
   "cell_type": "code",
   "execution_count": 56,
   "metadata": {},
   "outputs": [
    {
     "data": {
      "text/plain": [
       "<bound method Network.get_layer of <tensorflow.python.keras.engine.training.Model object at 0x000002376221F080>>"
      ]
     },
     "execution_count": 56,
     "metadata": {},
     "output_type": "execute_result"
    }
   ],
   "source": [
    "model.get_layer"
   ]
  },
  {
   "cell_type": "code",
   "execution_count": 30,
   "metadata": {},
   "outputs": [
    {
     "data": {
      "image/png": "[encoded data removed]",
      "text/plain": [
       "<Figure size 432x288 with 1 Axes>"
      ]
     },
     "metadata": {
      "needs_background": "light"
     },
     "output_type": "display_data"
    },
    {
     "data": {
      "image/png": "[encoded data removed]",
      "text/plain": [
       "<Figure size 432x288 with 1 Axes>"
      ]
     },
     "metadata": {
      "needs_background": "light"
     },
     "output_type": "display_data"
    }
   ],
   "source": [
    "import matplotlib.pyplot as plt\n",
    "metric = 'mae'\n",
    "# Plot training & validation accuracy values\n",
    "plt.plot(history.history[metric])\n",
    "plt.plot(history.history[f'val_{metric}'])\n",
    "plt.title('Model accuracy')\n",
    "plt.ylabel('Accuracy')\n",
    "plt.xlabel('Epoch')\n",
    "plt.legend(['Train', 'Test'], loc='upper left')\n",
    "plt.show()\n",
    "\n",
    "# Plot training & validation loss values\n",
    "plt.plot(history.history['loss'])\n",
    "plt.plot(history.history['val_loss'])\n",
    "plt.title('Model loss')\n",
    "plt.ylabel('Loss')\n",
    "plt.xlabel('Epoch')\n",
    "plt.legend(['Train', 'Test'], loc='upper left')\n",
    "plt.show()"
   ]
  },
  {
   "cell_type": "code",
   "execution_count": null,
   "metadata": {},
   "outputs": [],
   "source": [
    "model()"
   ]
  },
  {
   "cell_type": "code",
   "execution_count": 20,
   "metadata": {},
   "outputs": [
    {
     "name": "stdout",
     "output_type": "stream",
     "text": [
      "Collecting matplotlib\n",
      "  Downloading https://files.pythonhosted.org/packages/59/77/7a13ef25b0503311d8603074959c129cd60ef0eb26979aba7a7ed5b9e792/matplotlib-3.2.1-cp36-cp36m-win_amd64.whl (9.2MB)\n",
      "Requirement already satisfied: python-dateutil>=2.1 in c:\\users\\sidhant\\appdata\\local\\programs\\miniconda3\\envs\\tf\\lib\\site-packages (from matplotlib) (2.8.1)\n",
      "Requirement already satisfied: numpy>=1.11 in c:\\users\\sidhant\\appdata\\local\\programs\\miniconda3\\envs\\tf\\lib\\site-packages (from matplotlib) (1.18.1)\n",
      "Collecting kiwisolver>=1.0.1\n",
      "  Downloading https://files.pythonhosted.org/packages/2a/1e/f53031838c75cef71086ab7fc0dea1853d811ba3ec72465d782877223f09/kiwisolver-1.2.0-cp36-none-win_amd64.whl (57kB)\n",
      "Collecting cycler>=0.10\n",
      "  Using cached https://files.pythonhosted.org/packages/f7/d2/e07d3ebb2bd7af696440ce7e754c59dd546ffe1bbe732c8ab68b9c834e61/cycler-0.10.0-py2.py3-none-any.whl\n",
      "Collecting pyparsing!=2.0.4,!=2.1.2,!=2.1.6,>=2.0.1\n",
      "  Downloading https://files.pythonhosted.org/packages/8a/bb/488841f56197b13700afd5658fc279a2025a39e22449b7cf29864669b15d/pyparsing-2.4.7-py2.py3-none-any.whl (67kB)\n",
      "Requirement already satisfied: six>=1.5 in c:\\users\\sidhant\\appdata\\local\\programs\\miniconda3\\envs\\tf\\lib\\site-packages (from python-dateutil>=2.1->matplotlib) (1.13.0)\n",
      "Installing collected packages: kiwisolver, cycler, pyparsing, matplotlib\n",
      "Successfully installed cycler-0.10.0 kiwisolver-1.2.0 matplotlib-3.2.1 pyparsing-2.4.7\n"
     ]
    }
   ],
   "source": [
    "! pip install matplotlib"
   ]
  },
  {
   "cell_type": "code",
   "execution_count": null,
   "metadata": {},
   "outputs": [],
   "source": [
    "import pickle\n",
    "with open('history.pkl', 'wb') as f:\n",
    "    pickle.dump(history, f)"
   ]
  }
 ],
 "metadata": {
  "kernelspec": {
   "display_name": "tf",
   "language": "python",
   "name": "tf"
  },
  "language_info": {
   "codemirror_mode": {
    "name": "ipython",
    "version": 3
   },
   "file_extension": ".py",
   "mimetype": "text/x-python",
   "name": "python",
   "nbconvert_exporter": "python",
   "pygments_lexer": "ipython3",
   "version": "3.6.7"
  }
 },
 "nbformat": 4,
 "nbformat_minor": 2
}
